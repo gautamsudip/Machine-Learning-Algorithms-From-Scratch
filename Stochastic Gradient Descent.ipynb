{
 "cells": [
  {
   "cell_type": "code",
   "execution_count": 5,
   "id": "50e32472-922a-46d8-abc1-4a5af4ab7742",
   "metadata": {},
   "outputs": [],
   "source": [
    "#                               Implementation of Stochastic Gradient Descent From Scratch\n",
    "\n",
    "# Parameters (Coefficients & intercept) are updated only once per epoch using the average gradient of all training examples. But in Stochastic GD.\n",
    "# Parameters are updated n times, for n rows, in an epoch .\n",
    "# This approaches will affect the convergence speed and the path the algorithm takes to reach the minimum. \n",
    "# BGD can be slower, resource intensive and sometime error-prone for large datasets . "
   ]
  },
  {
   "cell_type": "code",
   "execution_count": 6,
   "id": "215bbb5e-7d72-42be-91dd-038e0b82ddb6",
   "metadata": {},
   "outputs": [],
   "source": [
    "import numpy as np\n",
    "from sklearn.datasets import load_diabetes\n",
    "from sklearn.model_selection import train_test_split"
   ]
  },
  {
   "cell_type": "code",
   "execution_count": 7,
   "id": "09c1c0e0-a447-4fa7-8172-5529ea13d0a5",
   "metadata": {},
   "outputs": [
    {
     "name": "stdout",
     "output_type": "stream",
     "text": [
      "(442, 10)\n",
      "(442,)\n"
     ]
    }
   ],
   "source": [
    "X, y = load_diabetes(return_X_y=True)\n",
    "print(X.shape)\n",
    "print(y.shape)"
   ]
  },
  {
   "cell_type": "code",
   "execution_count": 8,
   "id": "a4ba3921-d4a7-448e-8118-bbf5d7f9931d",
   "metadata": {},
   "outputs": [],
   "source": [
    "X_train, X_test, y_train, y_test = train_test_split(X, y, test_size=0.2, random_state=42)"
   ]
  },
  {
   "cell_type": "code",
   "execution_count": 11,
   "id": "4a00330d-279e-49f1-9604-c63b224adae3",
   "metadata": {},
   "outputs": [],
   "source": [
    "class StochasticGradientDescent:\n",
    "    \n",
    "    def __init__(self, learning_rate=0.01, epochs=100):\n",
    "        \n",
    "        self.coef_ = None\n",
    "        self.intercept_ = None\n",
    "        self.lr = learning_rate\n",
    "        self.epochs = epochs\n",
    "        \n",
    "    def fit(self, X_train, y_train):\n",
    "        # init your coefs\n",
    "        self.intercept_ = 0\n",
    "        self.coef_ = np.ones(X_train.shape[1])\n",
    "        \n",
    "        for i in range(self.epochs):\n",
    "            for j in range(X_train.shape[0]):\n",
    "                idx = np.random.randint(0, X_train.shape[0])\n",
    "                \n",
    "                y_hat = np.dot(X_train[idx], self.coef_) + self.intercept_\n",
    "                \n",
    "                intercept_der = -2 * (y_train[idx] - y_hat)\n",
    "                self.intercept_ = self.intercept_ - (self.lr * intercept_der)\n",
    "                \n",
    "                coef_der = -2 * np.dot((y_train[idx] - y_hat), X_train[idx])\n",
    "                self.coef_ = self.coef_ - (self.lr * coef_der)\n",
    "        \n",
    "        print(self.intercept_, self.coef_)\n",
    "    \n",
    "    def predict(self,X_test):\n",
    "        return np.dot(X_test, self.coef_) + self.intercept_"
   ]
  },
  {
   "cell_type": "code",
   "execution_count": 12,
   "id": "dc149bba-0458-4973-b1c6-c08deeec0cf1",
   "metadata": {},
   "outputs": [],
   "source": [
    "sgd = StochasticGradientDescent (0.01, 40)"
   ]
  },
  {
   "cell_type": "code",
   "execution_count": 13,
   "id": "b33a4213-20b5-41e8-ae9e-8b7514cfd733",
   "metadata": {},
   "outputs": [
    {
     "name": "stdout",
     "output_type": "stream",
     "text": [
      "162.92426917987265 [  62.4124295   -79.16091132  331.83985533  227.03130724   13.30408176\n",
      "  -23.05358367 -164.10724786  143.24348738  269.1389418   146.19239456]\n"
     ]
    }
   ],
   "source": [
    "sgd.fit(X_train, y_train)"
   ]
  },
  {
   "cell_type": "code",
   "execution_count": 16,
   "id": "3e1d722a-7abf-4f2f-bfe1-1285fe002149",
   "metadata": {},
   "outputs": [],
   "source": [
    "y_pred = sgd.predict (X_test)"
   ]
  },
  {
   "cell_type": "code",
   "execution_count": 17,
   "id": "de915e49-b448-480a-808e-cbf3f0b11e73",
   "metadata": {},
   "outputs": [
    {
     "data": {
      "text/plain": [
       "0.4206236983700927"
      ]
     },
     "execution_count": 17,
     "metadata": {},
     "output_type": "execute_result"
    }
   ],
   "source": [
    "from sklearn.metrics import r2_score\n",
    "r2_score(y_test,y_pred)"
   ]
  },
  {
   "cell_type": "code",
   "execution_count": null,
   "id": "d8dfcd6f-df79-44e6-a321-e4c668bbc70b",
   "metadata": {},
   "outputs": [],
   "source": []
  }
 ],
 "metadata": {
  "kernelspec": {
   "display_name": "Python 3 (ipykernel)",
   "language": "python",
   "name": "python3"
  },
  "language_info": {
   "codemirror_mode": {
    "name": "ipython",
    "version": 3
   },
   "file_extension": ".py",
   "mimetype": "text/x-python",
   "name": "python",
   "nbconvert_exporter": "python",
   "pygments_lexer": "ipython3",
   "version": "3.12.1"
  }
 },
 "nbformat": 4,
 "nbformat_minor": 5
}
