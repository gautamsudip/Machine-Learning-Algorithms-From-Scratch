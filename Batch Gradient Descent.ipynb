{
 "cells": [
  {
   "cell_type": "code",
   "execution_count": 1,
   "id": "6000ffdc-8986-41d5-b1ea-53d4448c7fa8",
   "metadata": {},
   "outputs": [],
   "source": [
    "#                  Batch Gradient Descent From Scratch For Multiple Linear Regression "
   ]
  },
  {
   "cell_type": "code",
   "execution_count": 2,
   "id": "57e0385d-81d1-4bbe-b373-1d751ac7d114",
   "metadata": {},
   "outputs": [],
   "source": [
    "import numpy as np\n",
    "from sklearn.datasets import load_diabetes\n",
    "from sklearn.model_selection import train_test_split"
   ]
  },
  {
   "cell_type": "code",
   "execution_count": 16,
   "id": "bf2f5659-0011-4bce-80dd-13ad3e564242",
   "metadata": {},
   "outputs": [
    {
     "name": "stdout",
     "output_type": "stream",
     "text": [
      "(442, 10)\n",
      "(442,)\n"
     ]
    }
   ],
   "source": [
    "X, y = load_diabetes(return_X_y=True)\n",
    "print(X.shape)\n",
    "print(y.shape)"
   ]
  },
  {
   "cell_type": "code",
   "execution_count": 17,
   "id": "b2cb898f-7b53-4b04-891a-374a5e8066f9",
   "metadata": {},
   "outputs": [],
   "source": [
    "X_train, X_test, y_train, y_test = train_test_split(X, y, test_size=0.2, random_state=42)"
   ]
  },
  {
   "cell_type": "code",
   "execution_count": 24,
   "id": "2dca2276-9f31-4ade-a2ca-8c079fa6e505",
   "metadata": {},
   "outputs": [],
   "source": [
    "class BatchGradientDescent:\n",
    "    \n",
    "    def __init__(self, learning_rate=0.01, epochs=100):\n",
    "        \n",
    "        self.coef_ = None\n",
    "        self.intercept_ = None\n",
    "        self.lr = learning_rate\n",
    "        self.epochs = epochs\n",
    "        \n",
    "    def fit(self, X_train, y_train):\n",
    "        self.intercept_ = 0                     # Start with an intercept of 0                      \n",
    "        self.coef_ = np.ones(X_train.shape[1])  # Initialize coefficients to ones\n",
    "        \n",
    "        for i in range(self.epochs):\n",
    "            y_hat = np.dot(X_train,self.coef_) + self.intercept_ # Compute predictions\n",
    "            # Computing the gradient for the intercept\n",
    "            intercept_der = -2 * np.mean(y_train - y_hat)\n",
    "            self.intercept_ = self.intercept_ - (self.lr * intercept_der)\n",
    "\n",
    "            # Computing the gradient for the coefficients\n",
    "            coef_der = -2 * np.dot((y_train - y_hat),X_train)/X_train.shape[0]\n",
    "            self.coef_ = self.coef_ - (self.lr * coef_der)\n",
    "        \n",
    "        print('Bo:',self.intercept_,'B1-B10:', self.coef_)\n",
    "    \n",
    "    def predict(self,X_test):\n",
    "        return np.dot(X_test,self.coef_) + self.intercept_"
   ]
  },
  {
   "cell_type": "code",
   "execution_count": 67,
   "id": "b9592985-784a-4d92-830a-0e99c20e7e3e",
   "metadata": {},
   "outputs": [],
   "source": [
    "bgd = BatchGradientDescent (0.5, 1000)"
   ]
  },
  {
   "cell_type": "code",
   "execution_count": 68,
   "id": "c3dfca27-609c-4b38-b92f-21302ced207f",
   "metadata": {},
   "outputs": [
    {
     "name": "stdout",
     "output_type": "stream",
     "text": [
      "Bo: 151.372591059285 B1-B10: [  41.82977756 -203.23644652  509.6557063   325.07401153  -71.07194191\n",
      " -119.33187737 -215.85264692  144.71021659  376.52729984  111.97619094]\n"
     ]
    }
   ],
   "source": [
    "bgd.fit(X_train, y_train)"
   ]
  },
  {
   "cell_type": "code",
   "execution_count": 69,
   "id": "91040986-692f-430f-8563-da5440642ed4",
   "metadata": {},
   "outputs": [],
   "source": [
    "y_pred = bgd.predict (X_test)"
   ]
  },
  {
   "cell_type": "code",
   "execution_count": 70,
   "id": "ce123b21-2b76-4911-900c-1fb524f54ab4",
   "metadata": {},
   "outputs": [
    {
     "data": {
      "text/plain": [
       "0.4588776166235029"
      ]
     },
     "execution_count": 70,
     "metadata": {},
     "output_type": "execute_result"
    }
   ],
   "source": [
    "from sklearn.metrics import r2_score\n",
    "r2_score(y_test,y_pred)"
   ]
  },
  {
   "cell_type": "code",
   "execution_count": null,
   "id": "ffec79b4-16e5-4303-bdcc-a9e22f6850bd",
   "metadata": {},
   "outputs": [],
   "source": []
  },
  {
   "cell_type": "code",
   "execution_count": null,
   "id": "173bae6b-877a-469f-81a9-e0474fe6c1e6",
   "metadata": {},
   "outputs": [],
   "source": []
  },
  {
   "cell_type": "code",
   "execution_count": null,
   "id": "2da7a743-c0dd-406b-97e4-3e34e2c1b503",
   "metadata": {},
   "outputs": [],
   "source": []
  },
  {
   "cell_type": "code",
   "execution_count": 71,
   "id": "e2585a6b-9602-45fa-a5cf-a6408b57efc8",
   "metadata": {},
   "outputs": [
    {
     "name": "stdout",
     "output_type": "stream",
     "text": [
      "B0:\n",
      "151.34560453985995\n",
      "B0-B10:\n",
      "[  37.90402135 -241.96436231  542.42875852  347.70384391 -931.48884588\n",
      "  518.06227698  163.41998299  275.31790158  736.1988589    48.67065743]\n"
     ]
    },
    {
     "data": {
      "text/plain": [
       "0.4526027629719197"
      ]
     },
     "execution_count": 71,
     "metadata": {},
     "output_type": "execute_result"
    }
   ],
   "source": [
    "#                                       using scikit-learn \n",
    "# LinearRegression class of scikit-learn uses a closed-form solution (ordinary least squares) to calculate bias and parameters.\n",
    "from sklearn.linear_model import LinearRegression\n",
    "reg = LinearRegression()\n",
    "reg.fit(X_train,y_train)\n",
    "\n",
    "\n",
    "print('B0:')\n",
    "print(reg.intercept_)\n",
    "print('B0-B10:')\n",
    "print(reg.coef_)\n",
    "y_pred = reg.predict(X_test)\n",
    "r2_score(y_test,y_pred)"
   ]
  },
  {
   "cell_type": "code",
   "execution_count": null,
   "id": "12f727e3-fabd-41ff-a178-5bd09295c29c",
   "metadata": {},
   "outputs": [],
   "source": []
  }
 ],
 "metadata": {
  "kernelspec": {
   "display_name": "Python 3 (ipykernel)",
   "language": "python",
   "name": "python3"
  },
  "language_info": {
   "codemirror_mode": {
    "name": "ipython",
    "version": 3
   },
   "file_extension": ".py",
   "mimetype": "text/x-python",
   "name": "python",
   "nbconvert_exporter": "python",
   "pygments_lexer": "ipython3",
   "version": "3.12.1"
  }
 },
 "nbformat": 4,
 "nbformat_minor": 5
}
