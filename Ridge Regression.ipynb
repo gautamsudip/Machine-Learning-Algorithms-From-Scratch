{
 "cells": [
  {
   "cell_type": "code",
   "execution_count": 11,
   "id": "d92fa9b7-3984-4bc5-ac2a-4a7f840c45c7",
   "metadata": {},
   "outputs": [],
   "source": [
    "#                       Implementation of Ridge Regression From Scratch (L2 Regularization)\n",
    "\n",
    "# Mathematically, a new hyperparamter (alpha) is added (2D data) to denomenator of slope which reduces slope .\n",
    "# Decrease in slope means target variable is less dependent on input features. Thus reduces Overfitting"
   ]
  },
  {
   "cell_type": "code",
   "execution_count": 6,
   "id": "ef69e1c0-1f0c-417d-9af4-bfc9cfb97299",
   "metadata": {},
   "outputs": [],
   "source": [
    "import numpy as np\n",
    "from sklearn.datasets import load_diabetes\n",
    "from sklearn.metrics import r2_score\n",
    "from sklearn.model_selection import train_test_split"
   ]
  },
  {
   "cell_type": "code",
   "execution_count": 7,
   "id": "f65faba3-06de-456f-ab36-4229a0d3a29e",
   "metadata": {},
   "outputs": [],
   "source": [
    "X,y = load_diabetes(return_X_y=True)\n",
    "X_train,X_test,y_train,y_test = train_test_split(X,y,test_size=0.2,random_state=4)"
   ]
  },
  {
   "cell_type": "code",
   "execution_count": 12,
   "id": "212ad7e2-c90a-4542-950d-f3dce2d1cb8a",
   "metadata": {},
   "outputs": [],
   "source": [
    "#                                                Custom Class For Ridge Regression\n",
    "class RidgeRegression:\n",
    "    \n",
    "    def __init__(self, alpha=0.1):\n",
    "        \n",
    "        self.alpha = alpha\n",
    "        self.coef_ = None\n",
    "        self.intercept_ = None\n",
    "        \n",
    "    def fit(self, X_train, y_train):\n",
    "        \n",
    "        X_train = np.insert(X_train, 0, 1, axis=1)\n",
    "        I = np.identity(X_train.shape[1])\n",
    "        I[0][0] = 0\n",
    "        result = np.linalg.inv(np.dot(X_train.T, X_train) + self.alpha * I).dot(X_train.T).dot(y_train)\n",
    "        self.intercept_ = result[0]\n",
    "        self.coef_ = result[1:]\n",
    "    \n",
    "    def predict(self, X_test):\n",
    "        return np.dot(X_test, self.coef_) + self.intercept_"
   ]
  },
  {
   "cell_type": "code",
   "execution_count": 14,
   "id": "224da29a-a73d-463e-9883-4d61dcd1ddd9",
   "metadata": {},
   "outputs": [
    {
     "name": "stdout",
     "output_type": "stream",
     "text": [
      "r2_score: 0.4693128853309805\n",
      "Coefficients: [  44.02063391 -241.69329987  452.98665299  332.04420177  -76.33686744\n",
      "  -68.52143809 -164.98809083  149.96908118  431.61347417   58.51862681]\n",
      "Intercept: 150.8905342560281\n"
     ]
    }
   ],
   "source": [
    "rr = RidgeRegression()\n",
    "rr.fit(X_train, y_train)\n",
    "y_pred = rr.predict(X_test)\n",
    "print('r2_score:',r2_score(y_test, y_pred))\n",
    "print('Coefficients:',rr.coef_)\n",
    "print('Intercept:',rr.intercept_)"
   ]
  },
  {
   "cell_type": "code",
   "execution_count": null,
   "id": "cd32462e-8ee4-4230-b065-6dc7ca7db67a",
   "metadata": {},
   "outputs": [],
   "source": []
  }
 ],
 "metadata": {
  "kernelspec": {
   "display_name": "Python 3 (ipykernel)",
   "language": "python",
   "name": "python3"
  },
  "language_info": {
   "codemirror_mode": {
    "name": "ipython",
    "version": 3
   },
   "file_extension": ".py",
   "mimetype": "text/x-python",
   "name": "python",
   "nbconvert_exporter": "python",
   "pygments_lexer": "ipython3",
   "version": "3.12.1"
  }
 },
 "nbformat": 4,
 "nbformat_minor": 5
}
