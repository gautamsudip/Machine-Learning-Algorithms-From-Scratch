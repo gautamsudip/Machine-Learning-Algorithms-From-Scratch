{
 "cells": [
  {
   "cell_type": "code",
   "execution_count": 2,
   "id": "5e5d2041-1d2e-4cc3-8a77-3f48ff1a0f86",
   "metadata": {},
   "outputs": [],
   "source": [
    "# Bias-Variance Trade-off : balance between bias and variance so that a model generalize well.\n",
    "# bias: inability of a model to capture relationship within training data.\n",
    "# variance: differ in model prediction when trained on different subset of same training data.\n",
    "# Commonly used techniques: Regularization, Bagging & boosting, Cross-validation, Complexity Control etc."
   ]
  },
  {
   "cell_type": "code",
   "execution_count": 4,
   "id": "177148b3-fa80-4069-b1fc-fbaf96820913",
   "metadata": {},
   "outputs": [],
   "source": [
    "# Regularization: Primarily aimed at reducing Variance to prevent overfitting. It involves adding penalty to model complexity \n",
    "# Generally decrease variance but slightly increase bias and prevent overfitting to some extent\n",
    "# Types: Ridge regularization(L2), Lasso Regularization(L1), Elastic net"
   ]
  },
  {
   "cell_type": "code",
   "execution_count": null,
   "id": "c88f0054-04a2-423f-a0e3-ff11a4d68932",
   "metadata": {},
   "outputs": [],
   "source": [
    "# Ridge Regularization on simple Linear Regression : "
   ]
  },
  {
   "cell_type": "code",
   "execution_count": 41,
   "id": "039d08cf-d493-40a8-9ea4-5b316d064353",
   "metadata": {},
   "outputs": [
    {
     "data": {
      "image/png": "[encoded data removed]",
      "text/plain": [
       "<IPython.core.display.Image object>"
      ]
     },
     "execution_count": 41,
     "metadata": {},
     "output_type": "execute_result"
    }
   ],
   "source": [
    "from IPython.display import Image\n",
    "Image(filename='images/Ridge Regression.png')"
   ]
  },
  {
   "cell_type": "code",
   "execution_count": 42,
   "id": "56bfe102-0a4a-425b-b97a-7a4887a37541",
   "metadata": {},
   "outputs": [
    {
     "data": {
      "image/png": "[encoded data removed]",
      "text/plain": [
       "<IPython.core.display.Image object>"
      ]
     },
     "execution_count": 42,
     "metadata": {},
     "output_type": "execute_result"
    }
   ],
   "source": [
    "Image(filename='images/m and b.png')"
   ]
  },
  {
   "cell_type": "code",
   "execution_count": 7,
   "id": "e74760ed-5ee2-472d-a32b-0c2969286cf9",
   "metadata": {},
   "outputs": [],
   "source": [
    "# This is cost function for Ridge Regression . Here alpha (λ) is non-negative hyperparameter that controls the strength of the penalty.\n",
    "# β0 is intercept and β1 is slope"
   ]
  },
  {
   "cell_type": "code",
   "execution_count": 28,
   "id": "fd277ecd-7bae-496b-8b34-1e62e0864718",
   "metadata": {},
   "outputs": [],
   "source": [
    "from sklearn.datasets import make_regression\n",
    "from sklearn.model_selection import train_test_split\n",
    "X, y = make_regression(n_samples=100, n_features=1, n_informative=1, n_targets=1,noise=20,random_state=13)\n",
    "X_train, X_test, y_train, y_test = train_test_split(X, y, test_size=.2, random_state=42) "
   ]
  },
  {
   "cell_type": "code",
   "execution_count": 29,
   "id": "3b31dc8a-477d-477e-9a19-1c68ed75c21e",
   "metadata": {},
   "outputs": [],
   "source": [
    "#                                Custom Class For Ridge Regression (single feature) \n",
    "class RidgeRegression:\n",
    "    \n",
    "    def __init__(self, alpha=0.1):\n",
    "        self.alpha = alpha\n",
    "        self.m = None\n",
    "        self.b = None\n",
    "        \n",
    "    def fit(self, X_train, y_train):\n",
    "        \n",
    "        num = 0\n",
    "        den = 0\n",
    "        \n",
    "        for i in range(X_train.shape[0]):\n",
    "            num = num + (y_train[i] - y_train.mean()) * (X_train[i] - X_train.mean())\n",
    "            den = den + (X_train[i] - X_train.mean()) * (X_train[i] - X_train.mean())\n",
    "        \n",
    "        self.m = num / (den + self.alpha)\n",
    "        self.b = y_train.mean() - (self.m * X_train.mean())\n",
    "        print(self.m, self.b)\n",
    "    \n",
    "    def predict(X_test):\n",
    "        pass"
   ]
  },
  {
   "cell_type": "code",
   "execution_count": 38,
   "id": "abd19931-759f-4d2f-b53a-88577692a9b2",
   "metadata": {},
   "outputs": [
    {
     "name": "stdout",
     "output_type": "stream",
     "text": [
      "Coefficient     Intercept\n",
      "[28.12380711] [-2.71209189]\n",
      "[24.63922736] [-2.62715536]\n",
      "[11.58742415] [-2.30901805]\n"
     ]
    }
   ],
   "source": [
    "print('Coefficient     Intercept')\n",
    "srr = RidgeRegression()\n",
    "srr.fit(X_train, y_train)\n",
    "\n",
    "srr1 = RidgeRegression(alpha=10)\n",
    "srr1.fit(X_train, y_train)\n",
    "\n",
    "srr2 = RidgeRegression(alpha=100)\n",
    "srr2.fit(X_train, y_train)"
   ]
  },
  {
   "cell_type": "code",
   "execution_count": null,
   "id": "4b87278f-cae9-4c79-a5ce-ef00353f2807",
   "metadata": {},
   "outputs": [],
   "source": []
  },
  {
   "cell_type": "code",
   "execution_count": null,
   "id": "58a0a60a-2d06-4aa9-855d-e5f69146673b",
   "metadata": {},
   "outputs": [],
   "source": []
  },
  {
   "cell_type": "code",
   "execution_count": null,
   "id": "99b3e241-e802-42c8-8c0f-92ff78a2e419",
   "metadata": {},
   "outputs": [],
   "source": []
  },
  {
   "cell_type": "code",
   "execution_count": null,
   "id": "57894c6b-ba40-4260-9d04-2135185e12f5",
   "metadata": {},
   "outputs": [],
   "source": []
  },
  {
   "cell_type": "code",
   "execution_count": null,
   "id": "87fed958-1b7b-4753-b1dc-5a13130edc74",
   "metadata": {},
   "outputs": [],
   "source": []
  },
  {
   "cell_type": "code",
   "execution_count": null,
   "id": "537d9ccc-0ebd-43e4-8b9f-61a44c5353e0",
   "metadata": {},
   "outputs": [],
   "source": []
  },
  {
   "cell_type": "code",
   "execution_count": null,
   "id": "61466486-f7e5-4d24-a57c-9a721be3690f",
   "metadata": {},
   "outputs": [],
   "source": []
  },
  {
   "cell_type": "code",
   "execution_count": 9,
   "id": "dd19e430-2a00-4aa5-9ccb-80d0611f457f",
   "metadata": {},
   "outputs": [],
   "source": [
    "import numpy as np\n",
    "import matplotlib.pyplot as plt"
   ]
  },
  {
   "cell_type": "code",
   "execution_count": 10,
   "id": "ecd6070d-7718-4c49-bab9-c9e6e13dcfae",
   "metadata": {},
   "outputs": [
    {
     "data": {
      "text/plain": [
       "<matplotlib.collections.PathCollection at 0x1b4678ef800>"
      ]
     },
     "execution_count": 10,
     "metadata": {},
     "output_type": "execute_result"
    },
    {
     "data": {
      "image/png": "[encoded data removed]",
      "text/plain": [
       "<Figure size 640x480 with 1 Axes>"
      ]
     },
     "metadata": {},
     "output_type": "display_data"
    }
   ],
   "source": [
    "from sklearn.datasets import make_regression\n",
    "X,y = make_regression(n_samples=100, n_features=1, n_informative=1, n_targets=1,noise=20,random_state=13)\n",
    "plt.scatter(X,y)"
   ]
  },
  {
   "cell_type": "code",
   "execution_count": 17,
   "id": "943d2dee-a3d3-49f3-bd60-ca74b3e42d9a",
   "metadata": {},
   "outputs": [
    {
     "name": "stdout",
     "output_type": "stream",
     "text": [
      "coefficient: [27.82809103]\n",
      "intercept -2.29474455867698\n",
      "coefficient: [24.9546267]\n",
      "intercept -2.1269130035235735\n"
     ]
    }
   ],
   "source": [
    "from sklearn.linear_model import LinearRegression\n",
    "lr = LinearRegression()\n",
    "lr.fit(X,y)\n",
    "print('coefficient:',lr.coef_)\n",
    "print('intercept',lr.intercept_)\n",
    "\n",
    "\n",
    "# Ridge Regularization \n",
    "from sklearn.linear_model import Ridge\n",
    "rr = Ridge(alpha=10)\n",
    "rr.fit(X,y)\n",
    "print('coefficient:',rr.coef_)\n",
    "print('intercept',rr.intercept_)"
   ]
  },
  {
   "cell_type": "code",
   "execution_count": 19,
   "id": "bf3e0663-0210-45b2-bc60-eac240a14064",
   "metadata": {},
   "outputs": [
    {
     "name": "stdout",
     "output_type": "stream",
     "text": [
      "[24.9546267]\n",
      "-2.1269130035235735\n",
      "[12.93442104]\n",
      "-1.4248441496033308\n"
     ]
    },
    {
     "data": {
      "text/plain": [
       "<matplotlib.legend.Legend at 0x1b46be73440>"
      ]
     },
     "execution_count": 19,
     "metadata": {},
     "output_type": "execute_result"
    },
    {
     "data": {
      "image/png": "[encoded data removed]",
      "text/plain": [
       "<Figure size 640x480 with 1 Axes>"
      ]
     },
     "metadata": {},
     "output_type": "display_data"
    }
   ],
   "source": [
    "# How hyperparameter alpha (λ) affect regression line \n",
    "rr = Ridge(alpha=10)\n",
    "rr.fit(X,y)\n",
    "print(rr.coef_)\n",
    "print(rr.intercept_)\n",
    "\n",
    "rr1 = Ridge(alpha=100)\n",
    "rr1.fit(X,y)\n",
    "print(rr1.coef_)\n",
    "print(rr1.intercept_)\n",
    "\n",
    "plt.plot(X,y,'b.')\n",
    "plt.plot(X,lr.predict(X),color='red',label='alpha=0')\n",
    "plt.plot(X,rr.predict(X),color='green',label='alpha=10')\n",
    "plt.plot(X,rr1.predict(X),color='black',label='alpha=100')\n",
    "plt.legend()"
   ]
  },
  {
   "cell_type": "code",
   "execution_count": null,
   "id": "70f4efe7-24fa-4dc0-a07c-a0cab864f181",
   "metadata": {},
   "outputs": [],
   "source": []
  },
  {
   "cell_type": "code",
   "execution_count": null,
   "id": "e47db5eb-0be2-46e7-9694-3f65f96a83ab",
   "metadata": {},
   "outputs": [],
   "source": []
  },
  {
   "cell_type": "code",
   "execution_count": null,
   "id": "eaf720ab-335f-4681-ba44-debc5abac9ba",
   "metadata": {},
   "outputs": [],
   "source": []
  },
  {
   "cell_type": "code",
   "execution_count": null,
   "id": "8619d60a-fa2d-4483-bcc2-171fba7e32c6",
   "metadata": {},
   "outputs": [],
   "source": []
  },
  {
   "cell_type": "code",
   "execution_count": null,
   "id": "0f30f28c-d49b-4a3c-8b68-5d99aba767e9",
   "metadata": {},
   "outputs": [],
   "source": []
  },
  {
   "cell_type": "code",
   "execution_count": null,
   "id": "1e26e590-8d73-4f20-a280-1ad91bda6d05",
   "metadata": {},
   "outputs": [],
   "source": []
  },
  {
   "cell_type": "code",
   "execution_count": null,
   "id": "58794f6d-f02b-4106-b287-e3dcc4ac0556",
   "metadata": {},
   "outputs": [],
   "source": []
  },
  {
   "cell_type": "code",
   "execution_count": null,
   "id": "8acc4279-f4c4-4e81-9481-6c3430663ed3",
   "metadata": {},
   "outputs": [],
   "source": []
  },
  {
   "cell_type": "code",
   "execution_count": null,
   "id": "e30ed80d-ad69-4d28-815c-3c76d5a2bb38",
   "metadata": {},
   "outputs": [],
   "source": []
  },
  {
   "cell_type": "code",
   "execution_count": null,
   "id": "538c61a1-c474-43f8-916f-e5d2f6020a12",
   "metadata": {},
   "outputs": [],
   "source": []
  },
  {
   "cell_type": "code",
   "execution_count": null,
   "id": "0f493fe2-80a5-4973-9655-dfe45e962e84",
   "metadata": {},
   "outputs": [],
   "source": []
  },
  {
   "cell_type": "code",
   "execution_count": null,
   "id": "8d9e6a39-9b36-4dde-a149-da8c8bf34a84",
   "metadata": {},
   "outputs": [],
   "source": []
  },
  {
   "cell_type": "code",
   "execution_count": null,
   "id": "96c8b48d-be71-4122-9168-d194d99f9b20",
   "metadata": {},
   "outputs": [],
   "source": []
  },
  {
   "cell_type": "code",
   "execution_count": null,
   "id": "14e1eba6-5412-4a24-b573-fb226e3dca61",
   "metadata": {},
   "outputs": [],
   "source": []
  },
  {
   "cell_type": "code",
   "execution_count": null,
   "id": "7a008cdb-9c55-46ec-b76b-5ffefd2fa64c",
   "metadata": {},
   "outputs": [],
   "source": []
  },
  {
   "cell_type": "code",
   "execution_count": 1,
   "id": "d92fa9b7-3984-4bc5-ac2a-4a7f840c45c7",
   "metadata": {},
   "outputs": [],
   "source": [
    "#             Implementation of Ridge Regression for n Dimensional Data From Scratch\n",
    "\n",
    "# Mathematically, a new hyperparamter (alpha) is added (2D data) to denomenator of slope which reduces slope .\n",
    "# Decrease in slope means target variable is less dependent on input features. Thus reduces Overfitting"
   ]
  },
  {
   "cell_type": "code",
   "execution_count": 6,
   "id": "ef69e1c0-1f0c-417d-9af4-bfc9cfb97299",
   "metadata": {},
   "outputs": [],
   "source": [
    "import numpy as np\n",
    "from sklearn.datasets import load_diabetes\n",
    "from sklearn.metrics import r2_score\n",
    "from sklearn.model_selection import train_test_split"
   ]
  },
  {
   "cell_type": "code",
   "execution_count": 7,
   "id": "f65faba3-06de-456f-ab36-4229a0d3a29e",
   "metadata": {},
   "outputs": [],
   "source": [
    "X,y = load_diabetes(return_X_y=True)\n",
    "X_train,X_test,y_train,y_test = train_test_split(X,y,test_size=0.2,random_state=4)"
   ]
  },
  {
   "cell_type": "code",
   "execution_count": 12,
   "id": "212ad7e2-c90a-4542-950d-f3dce2d1cb8a",
   "metadata": {},
   "outputs": [],
   "source": [
    "#                                                Custom Class For Ridge Regression\n",
    "class RidgeRegression:\n",
    "    \n",
    "    def __init__(self, alpha=0.1):\n",
    "        \n",
    "        self.alpha = alpha\n",
    "        self.coef_ = None\n",
    "        self.intercept_ = None\n",
    "        \n",
    "    def fit(self, X_train, y_train):\n",
    "        \n",
    "        X_train = np.insert(X_train, 0, 1, axis=1)\n",
    "        I = np.identity(X_train.shape[1])\n",
    "        I[0][0] = 0\n",
    "        result = np.linalg.inv(np.dot(X_train.T, X_train) + self.alpha * I).dot(X_train.T).dot(y_train)\n",
    "        self.intercept_ = result[0]\n",
    "        self.coef_ = result[1:]\n",
    "    \n",
    "    def predict(self, X_test):\n",
    "        return np.dot(X_test, self.coef_) + self.intercept_"
   ]
  },
  {
   "cell_type": "code",
   "execution_count": 14,
   "id": "224da29a-a73d-463e-9883-4d61dcd1ddd9",
   "metadata": {},
   "outputs": [
    {
     "name": "stdout",
     "output_type": "stream",
     "text": [
      "r2_score: 0.4693128853309805\n",
      "Coefficients: [  44.02063391 -241.69329987  452.98665299  332.04420177  -76.33686744\n",
      "  -68.52143809 -164.98809083  149.96908118  431.61347417   58.51862681]\n",
      "Intercept: 150.8905342560281\n"
     ]
    }
   ],
   "source": [
    "rr = RidgeRegression()\n",
    "rr.fit(X_train, y_train)\n",
    "y_pred = rr.predict(X_test)\n",
    "print('r2_score:',r2_score(y_test, y_pred))\n",
    "print('Coefficients:',rr.coef_)\n",
    "print('Intercept:',rr.intercept_)"
   ]
  },
  {
   "cell_type": "code",
   "execution_count": null,
   "id": "cd32462e-8ee4-4230-b065-6dc7ca7db67a",
   "metadata": {},
   "outputs": [],
   "source": []
  }
 ],
 "metadata": {
  "kernelspec": {
   "display_name": "Python 3 (ipykernel)",
   "language": "python",
   "name": "python3"
  },
  "language_info": {
   "codemirror_mode": {
    "name": "ipython",
    "version": 3
   },
   "file_extension": ".py",
   "mimetype": "text/x-python",
   "name": "python",
   "nbconvert_exporter": "python",
   "pygments_lexer": "ipython3",
   "version": "3.12.1"
  }
 },
 "nbformat": 4,
 "nbformat_minor": 5
}
