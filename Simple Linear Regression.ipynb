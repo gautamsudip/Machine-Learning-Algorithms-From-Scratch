{
 "cells": [
  {
   "cell_type": "code",
   "execution_count": 1,
   "id": "0655e0df-3e95-47ef-a135-5d27730e19a3",
   "metadata": {},
   "outputs": [],
   "source": [
    "#                                                  Simple Linear Regression (From Scratch)"
   ]
  },
  {
   "cell_type": "code",
   "execution_count": 2,
   "id": "b3df0e32-e6e5-44e7-9009-36adfcef2bc1",
   "metadata": {},
   "outputs": [],
   "source": [
    "import numpy as np\n",
    "import pandas as pd"
   ]
  },
  {
   "cell_type": "code",
   "execution_count": 3,
   "id": "c1af33ea-3d70-4508-8377-1272741e0248",
   "metadata": {},
   "outputs": [],
   "source": [
    "df=pd.read_csv('used datasets/placement_toy.csv') # toy dataset"
   ]
  },
  {
   "cell_type": "code",
   "execution_count": 31,
   "id": "a4f8450b-bf77-46f7-9951-80d5cbde1ae4",
   "metadata": {},
   "outputs": [
    {
     "name": "stdout",
     "output_type": "stream",
     "text": [
      "     cgpa  package\n",
      "0    6.89     3.26\n",
      "1    5.12     1.98\n",
      "2    7.82     3.25\n",
      "3    7.42     3.67\n",
      "4    6.94     3.57\n",
      "..    ...      ...\n",
      "195  6.93     2.46\n",
      "196  5.89     2.57\n",
      "197  7.21     3.24\n",
      "198  7.63     3.96\n",
      "199  6.22     2.33\n",
      "\n",
      "[200 rows x 2 columns]\n",
      "cgpa       0\n",
      "package    0\n",
      "dtype: int64\n"
     ]
    }
   ],
   "source": [
    "print(df)\n",
    "print(df.isnull().sum())"
   ]
  },
  {
   "cell_type": "code",
   "execution_count": 5,
   "id": "63161f7a-00a8-47f8-9908-98e101a52950",
   "metadata": {},
   "outputs": [],
   "source": [
    "x = df.iloc[:, 0].values # 1D numpy array\n",
    "y = df.iloc[:, 1].values"
   ]
  },
  {
   "cell_type": "code",
   "execution_count": 6,
   "id": "f72f774d-be52-43db-b5ac-04ddd4564f12",
   "metadata": {},
   "outputs": [
    {
     "data": {
      "text/plain": [
       "array([6.89, 5.12, 7.82, 7.42, 6.94, 7.89, 6.73, 6.75, 6.09, 8.31, 5.32,\n",
       "       6.61, 8.94, 6.93, 7.73, 7.25, 6.84, 5.38, 6.94, 7.48, 7.28, 6.85,\n",
       "       6.14, 6.19, 6.53, 7.28, 8.31, 5.42, 5.94, 7.15, 7.36, 8.1 , 6.96,\n",
       "       6.35, 7.34, 6.87, 5.99, 5.9 , 8.62, 7.43, 9.38, 6.89, 5.95, 7.66,\n",
       "       5.09, 7.87, 6.07, 5.84, 8.63, 8.87, 9.58, 9.26, 8.37, 6.47, 6.86,\n",
       "       8.2 , 5.84, 6.6 , 6.92, 7.56, 5.61, 5.48, 6.34, 9.16, 7.36, 7.6 ,\n",
       "       5.11, 6.51, 7.56, 7.3 , 5.79, 7.47, 7.78, 8.44, 6.85, 6.97, 6.94,\n",
       "       8.99, 6.59, 7.18, 7.63, 6.1 , 5.58, 8.44, 4.26, 4.79, 7.61, 8.09,\n",
       "       4.73, 6.42, 7.11, 6.22, 7.9 , 6.79, 5.83, 6.63, 7.11, 5.98, 7.69,\n",
       "       6.61, 7.95, 6.71, 5.13, 7.05, 7.62, 6.66, 6.13, 6.33, 7.76, 7.77,\n",
       "       8.18, 5.42, 8.58, 6.94, 5.84, 8.35, 9.04, 7.12, 7.4 , 7.39, 5.23,\n",
       "       6.5 , 5.12, 5.1 , 6.06, 7.33, 5.91, 6.78, 7.93, 7.29, 6.68, 6.37,\n",
       "       5.84, 6.05, 7.2 , 6.1 , 5.64, 7.14, 7.91, 7.19, 7.91, 6.76, 6.93,\n",
       "       4.85, 6.17, 5.84, 6.07, 5.66, 7.57, 8.28, 6.3 , 6.12, 7.37, 7.94,\n",
       "       7.08, 6.98, 7.38, 6.47, 5.95, 8.71, 7.13, 7.3 , 5.53, 8.93, 9.06,\n",
       "       8.21, 8.6 , 8.13, 8.65, 9.31, 6.22, 8.01, 6.93, 6.75, 7.32, 7.04,\n",
       "       6.29, 7.09, 8.15, 7.14, 6.19, 8.22, 5.88, 7.28, 7.88, 6.31, 7.84,\n",
       "       6.26, 7.35, 8.11, 6.19, 7.28, 8.25, 4.57, 7.89, 6.93, 5.89, 7.21,\n",
       "       7.63, 6.22])"
      ]
     },
     "execution_count": 6,
     "metadata": {},
     "output_type": "execute_result"
    }
   ],
   "source": [
    "x # cgpa"
   ]
  },
  {
   "cell_type": "code",
   "execution_count": 7,
   "id": "88a49f1d-4764-4cb1-864d-137eaee470f5",
   "metadata": {},
   "outputs": [
    {
     "data": {
      "text/plain": [
       "array([3.26, 1.98, 3.25, 3.67, 3.57, 2.99, 2.6 , 2.48, 2.31, 3.51, 1.86,\n",
       "       2.6 , 3.65, 2.89, 3.42, 3.23, 2.35, 2.09, 2.98, 2.83, 3.16, 2.93,\n",
       "       2.3 , 2.48, 2.71, 3.65, 3.42, 2.16, 2.24, 3.49, 3.26, 3.89, 3.08,\n",
       "       2.73, 3.42, 2.87, 2.84, 2.43, 4.36, 3.33, 4.02, 2.7 , 2.54, 2.76,\n",
       "       1.86, 3.58, 2.26, 3.26, 4.09, 4.62, 4.43, 3.79, 4.11, 2.61, 3.09,\n",
       "       3.39, 2.74, 1.94, 3.09, 3.31, 2.19, 1.61, 2.09, 4.25, 2.92, 3.81,\n",
       "       1.63, 2.89, 2.99, 2.94, 2.35, 3.34, 3.62, 4.03, 3.44, 3.28, 3.15,\n",
       "       4.6 , 2.21, 3.  , 3.44, 2.2 , 2.17, 3.49, 1.53, 1.48, 2.77, 3.55,\n",
       "       1.48, 2.72, 2.66, 2.14, 4.  , 3.08, 2.42, 2.79, 2.61, 2.84, 3.83,\n",
       "       3.24, 4.14, 3.52, 1.37, 3.  , 3.74, 2.82, 2.19, 2.59, 3.54, 4.06,\n",
       "       3.76, 2.25, 4.1 , 2.37, 1.87, 4.21, 3.33, 2.99, 2.88, 2.65, 1.73,\n",
       "       3.02, 2.01, 2.3 , 2.31, 3.16, 2.6 , 3.11, 3.34, 3.12, 2.49, 2.01,\n",
       "       2.48, 2.58, 2.83, 2.6 , 2.1 , 3.13, 3.89, 2.4 , 3.15, 3.18, 3.04,\n",
       "       1.54, 2.42, 2.18, 2.46, 2.21, 3.4 , 3.67, 2.73, 2.76, 3.08, 3.99,\n",
       "       2.85, 3.09, 3.13, 2.7 , 3.04, 4.08, 2.93, 3.33, 2.55, 3.91, 3.82,\n",
       "       4.08, 3.98, 3.6 , 3.52, 4.37, 2.87, 3.76, 2.51, 2.56, 2.99, 3.5 ,\n",
       "       3.23, 3.64, 3.63, 3.03, 2.72, 3.89, 2.08, 2.72, 3.14, 3.18, 3.47,\n",
       "       2.44, 3.08, 4.06, 2.69, 3.48, 3.75, 1.94, 3.67, 2.46, 2.57, 3.24,\n",
       "       3.96, 2.33])"
      ]
     },
     "execution_count": 7,
     "metadata": {},
     "output_type": "execute_result"
    }
   ],
   "source": [
    "y # package"
   ]
  },
  {
   "cell_type": "code",
   "execution_count": 8,
   "id": "97cec67d-cb05-4707-aaa2-3a0ab6100d2e",
   "metadata": {},
   "outputs": [],
   "source": [
    "from sklearn.model_selection import train_test_split"
   ]
  },
  {
   "cell_type": "code",
   "execution_count": 9,
   "id": "5532171f-1050-4514-85b7-18976333d118",
   "metadata": {},
   "outputs": [],
   "source": [
    "x_train, x_test, y_train, y_test = train_test_split(x, y, train_size=.8, random_state=42)"
   ]
  },
  {
   "cell_type": "code",
   "execution_count": 10,
   "id": "25a6f109-c474-449a-a58f-b22a28f071b1",
   "metadata": {},
   "outputs": [
    {
     "data": {
      "text/plain": [
       "array([7.18, 7.21, 8.62, 6.53, 5.12, 6.93, 7.15, 7.48, 4.85, 7.61, 5.84,\n",
       "       6.75, 7.89, 5.91, 7.12, 8.44, 7.91, 7.69, 6.93, 7.11, 9.31, 5.98,\n",
       "       8.1 , 8.94, 6.87, 7.39, 5.95, 8.11, 7.11, 5.64, 9.26, 6.78, 5.53,\n",
       "       6.89, 7.4 , 6.94, 8.31, 7.19, 7.95, 5.42, 7.82, 8.99, 6.07, 6.26,\n",
       "       7.28, 4.79, 7.3 , 5.99, 6.19, 5.48, 6.14, 6.76, 6.71, 6.35, 6.61,\n",
       "       7.89, 8.71, 6.73, 5.42, 5.23, 6.94, 6.96, 6.93, 5.84, 7.77, 6.17,\n",
       "       5.32, 6.34, 8.58, 6.07, 8.6 , 6.89, 7.63, 7.94, 5.79, 5.1 , 7.36,\n",
       "       5.09, 8.93, 5.94, 9.38, 7.76, 6.98, 7.38, 7.28, 6.19, 7.88, 5.66,\n",
       "       6.1 , 7.43, 8.65, 5.84, 5.83, 7.08, 7.66, 7.91, 7.42, 6.66, 6.47,\n",
       "       6.05, 6.19, 8.15, 6.31, 8.87, 7.63, 7.34, 6.75, 8.18, 6.22, 8.44,\n",
       "       6.29, 8.22, 6.42, 6.09, 6.93, 7.56, 8.01, 6.37, 5.38, 7.78, 7.04,\n",
       "       7.2 , 8.13, 7.28, 9.16, 6.86, 6.33, 9.58, 5.89, 6.92, 8.63, 4.73,\n",
       "       6.85, 6.6 , 7.13, 8.25, 7.29, 5.9 , 6.47, 4.57, 5.12, 8.37, 8.28,\n",
       "       6.68, 6.12, 7.05, 6.61, 9.04, 8.09, 6.85, 6.5 , 6.22, 7.28, 7.35,\n",
       "       7.47, 6.13, 7.73, 7.9 , 7.14, 5.13])"
      ]
     },
     "execution_count": 10,
     "metadata": {},
     "output_type": "execute_result"
    }
   ],
   "source": [
    "x_train # cgpa for training"
   ]
  },
  {
   "cell_type": "code",
   "execution_count": 11,
   "id": "15393dfd-decd-4514-9e60-f42c588c6ab2",
   "metadata": {},
   "outputs": [
    {
     "data": {
      "text/plain": [
       "array([3.  , 3.24, 4.36, 2.71, 2.01, 2.46, 3.49, 2.83, 1.54, 2.77, 1.87,\n",
       "       2.56, 2.99, 2.6 , 2.99, 4.03, 3.15, 3.83, 2.51, 2.61, 4.37, 2.84,\n",
       "       3.89, 3.65, 2.87, 2.65, 2.54, 4.06, 2.66, 2.1 , 3.79, 3.11, 2.55,\n",
       "       2.7 , 2.88, 2.37, 3.42, 2.4 , 4.14, 2.25, 3.25, 4.6 , 2.26, 2.44,\n",
       "       3.48, 1.48, 3.33, 2.84, 2.69, 1.61, 2.3 , 3.18, 3.52, 2.73, 2.6 ,\n",
       "       3.67, 4.08, 2.6 , 2.16, 1.73, 3.57, 3.08, 3.04, 2.18, 4.06, 2.42,\n",
       "       1.86, 2.09, 4.1 , 2.46, 3.98, 3.26, 3.96, 3.99, 2.35, 2.3 , 2.92,\n",
       "       1.86, 3.91, 2.24, 4.02, 3.54, 3.09, 3.13, 3.65, 2.48, 3.14, 2.21,\n",
       "       2.2 , 3.33, 3.52, 3.26, 2.42, 2.85, 2.76, 3.89, 3.67, 2.82, 2.61,\n",
       "       2.58, 2.72, 3.63, 3.18, 4.62, 3.44, 3.42, 2.48, 3.76, 2.14, 3.49,\n",
       "       3.23, 3.89, 2.72, 2.31, 2.89, 3.31, 3.76, 2.01, 2.09, 3.62, 3.5 ,\n",
       "       2.83, 3.6 , 2.72, 4.25, 3.09, 2.59, 4.43, 2.57, 3.09, 4.09, 1.48,\n",
       "       2.93, 1.94, 2.93, 3.75, 3.12, 2.43, 2.7 , 1.94, 1.98, 4.11, 3.67,\n",
       "       2.49, 2.76, 3.  , 3.24, 3.33, 3.55, 3.44, 3.02, 2.33, 3.16, 3.08,\n",
       "       3.34, 2.19, 3.42, 4.  , 3.03, 1.37])"
      ]
     },
     "execution_count": 11,
     "metadata": {},
     "output_type": "execute_result"
    }
   ],
   "source": [
    "y_train # package"
   ]
  },
  {
   "cell_type": "code",
   "execution_count": 13,
   "id": "42afc1f0-be80-49f0-8b1d-df64f18aca25",
   "metadata": {},
   "outputs": [],
   "source": [
    "#                                                       Function to calculate parameters (m and b)\n",
    "class SimpleLinearRegression(object):\n",
    "    def __init__ (self):\n",
    "        self.m=None\n",
    "        self.b=None\n",
    "\n",
    "    def training(self, x_train, y_train):\n",
    "        \"\"\"Model Training means calculating values of m and b for best fit line through sort of linear data\"\"\"\n",
    "        x_mean = x_train.mean()\n",
    "        y_mean= y_train.mean()\n",
    "        num = 0\n",
    "        deno = 0\n",
    "        for i in range (x_train.shape[0]):\n",
    "            num = num +(x_train[i]-x_mean) * (y_train[i]-y_mean)\n",
    "            deno = deno + (x_train[i]-x_mean)*(x_train[i]-x_mean)\n",
    "        self.m = num / deno\n",
    "        self.b = y_mean - self.m * x_mean\n",
    "        \n",
    "    def predict(self, cgpa):\n",
    "        return self.m*cgpa + self.b"
   ]
  },
  {
   "cell_type": "code",
   "execution_count": 14,
   "id": "900a5cd1-55d7-428e-868e-2a03f9135083",
   "metadata": {},
   "outputs": [],
   "source": [
    "obj=SimpleLinearRegression() # __init__ method is called "
   ]
  },
  {
   "cell_type": "code",
   "execution_count": 15,
   "id": "8179030e-0595-41ab-99ca-c2fc08fb752d",
   "metadata": {},
   "outputs": [],
   "source": [
    "obj.training(x_train, y_train)  # training method is called & m and b are computed "
   ]
  },
  {
   "cell_type": "code",
   "execution_count": 16,
   "id": "f4bf78d4-b767-4a90-b12b-ac4bf301479f",
   "metadata": {},
   "outputs": [
    {
     "name": "stdout",
     "output_type": "stream",
     "text": [
      "m=0.5742564727019197, b= -1.0270069374542108\n"
     ]
    }
   ],
   "source": [
    "print(f'm={obj.m}, b= {obj.b}')"
   ]
  },
  {
   "cell_type": "code",
   "execution_count": 72,
   "id": "6318ad70-6a9a-4c8a-9392-7282b65b7282",
   "metadata": {},
   "outputs": [
    {
     "data": {
      "image/png": "[encoded data removed]",
      "text/plain": [
       "<Figure size 640x480 with 1 Axes>"
      ]
     },
     "metadata": {},
     "output_type": "display_data"
    }
   ],
   "source": [
    "plt.scatter (df['cgpa'], df['package'])\n",
    "plt.plot (X_train, obj.predict(X_train), color='red')\n",
    "plt.xlabel('CGPA')\n",
    "plt.ylabel('Package')\n",
    "plt.show()"
   ]
  },
  {
   "cell_type": "code",
   "execution_count": 17,
   "id": "64e52aea-e076-46ca-a4f0-094b5cec4344",
   "metadata": {},
   "outputs": [
    {
     "data": {
      "text/html": [
       "<div>\n",
       "<style scoped>\n",
       "    .dataframe tbody tr th:only-of-type {\n",
       "        vertical-align: middle;\n",
       "    }\n",
       "\n",
       "    .dataframe tbody tr th {\n",
       "        vertical-align: top;\n",
       "    }\n",
       "\n",
       "    .dataframe thead th {\n",
       "        text-align: right;\n",
       "    }\n",
       "</style>\n",
       "<table border=\"1\" class=\"dataframe\">\n",
       "  <thead>\n",
       "    <tr style=\"text-align: right;\">\n",
       "      <th></th>\n",
       "      <th>cgpa</th>\n",
       "      <th>package</th>\n",
       "    </tr>\n",
       "  </thead>\n",
       "  <tbody>\n",
       "    <tr>\n",
       "      <th>195</th>\n",
       "      <td>6.93</td>\n",
       "      <td>2.46</td>\n",
       "    </tr>\n",
       "    <tr>\n",
       "      <th>196</th>\n",
       "      <td>5.89</td>\n",
       "      <td>2.57</td>\n",
       "    </tr>\n",
       "    <tr>\n",
       "      <th>197</th>\n",
       "      <td>7.21</td>\n",
       "      <td>3.24</td>\n",
       "    </tr>\n",
       "    <tr>\n",
       "      <th>198</th>\n",
       "      <td>7.63</td>\n",
       "      <td>3.96</td>\n",
       "    </tr>\n",
       "    <tr>\n",
       "      <th>199</th>\n",
       "      <td>6.22</td>\n",
       "      <td>2.33</td>\n",
       "    </tr>\n",
       "  </tbody>\n",
       "</table>\n",
       "</div>"
      ],
      "text/plain": [
       "     cgpa  package\n",
       "195  6.93     2.46\n",
       "196  5.89     2.57\n",
       "197  7.21     3.24\n",
       "198  7.63     3.96\n",
       "199  6.22     2.33"
      ]
     },
     "execution_count": 17,
     "metadata": {},
     "output_type": "execute_result"
    }
   ],
   "source": [
    "df.tail(5)"
   ]
  },
  {
   "cell_type": "code",
   "execution_count": 18,
   "id": "b7aeb6f5-fbdc-4a4b-9c9c-7c8a715d7cc1",
   "metadata": {},
   "outputs": [
    {
     "data": {
      "text/plain": [
       "2.9525904183700926"
      ]
     },
     "execution_count": 18,
     "metadata": {},
     "output_type": "execute_result"
    }
   ],
   "source": [
    "obj.predict(6.93)"
   ]
  },
  {
   "cell_type": "code",
   "execution_count": 19,
   "id": "ac589748-f2b8-48d7-8ab3-ead0f5428d13",
   "metadata": {},
   "outputs": [
    {
     "data": {
      "text/plain": [
       "2.355363686760096"
      ]
     },
     "execution_count": 19,
     "metadata": {},
     "output_type": "execute_result"
    }
   ],
   "source": [
    "obj.predict(5.89)"
   ]
  },
  {
   "cell_type": "code",
   "execution_count": 20,
   "id": "9d15b6cf-c207-469c-a3a1-578829b30a55",
   "metadata": {},
   "outputs": [
    {
     "data": {
      "text/plain": [
       "3.11338223072663"
      ]
     },
     "execution_count": 20,
     "metadata": {},
     "output_type": "execute_result"
    }
   ],
   "source": [
    "obj.predict(7.21)"
   ]
  },
  {
   "cell_type": "code",
   "execution_count": 21,
   "id": "70b890ad-11e9-47aa-a046-b4e5b7c43d9a",
   "metadata": {},
   "outputs": [
    {
     "data": {
      "text/plain": [
       "3.3545699492614367"
      ]
     },
     "execution_count": 21,
     "metadata": {},
     "output_type": "execute_result"
    }
   ],
   "source": [
    "obj.predict(7.63)"
   ]
  },
  {
   "cell_type": "code",
   "execution_count": 22,
   "id": "1801957f-a8d3-4c19-9300-2c079cf56a16",
   "metadata": {},
   "outputs": [
    {
     "data": {
      "text/plain": [
       "2.5448683227517295"
      ]
     },
     "execution_count": 22,
     "metadata": {},
     "output_type": "execute_result"
    }
   ],
   "source": [
    "obj.predict(6.22)"
   ]
  },
  {
   "cell_type": "code",
   "execution_count": null,
   "id": "14d12b15-7bbc-4049-afe6-52e995eef8ae",
   "metadata": {},
   "outputs": [],
   "source": []
  },
  {
   "cell_type": "code",
   "execution_count": null,
   "id": "750f0ff0-ac0c-435d-8d08-218ab82da4c1",
   "metadata": {},
   "outputs": [],
   "source": []
  },
  {
   "cell_type": "code",
   "execution_count": null,
   "id": "d3a9b649-dd74-4f10-9240-3f4a69042b07",
   "metadata": {},
   "outputs": [],
   "source": []
  },
  {
   "cell_type": "code",
   "execution_count": 23,
   "id": "fd3c554f-d487-452e-a47e-666040f4155a",
   "metadata": {},
   "outputs": [],
   "source": [
    "#                                      Implementing Simple Linear Regression using scikit-learn"
   ]
  },
  {
   "cell_type": "code",
   "execution_count": 24,
   "id": "dc6771e2-4328-4889-87f3-00ca44208d76",
   "metadata": {},
   "outputs": [],
   "source": [
    "import numpy as np\n",
    "import pandas as pd\n",
    "import matplotlib.pyplot as plt"
   ]
  },
  {
   "cell_type": "code",
   "execution_count": 25,
   "id": "9376a530-37ac-4bb1-aa44-32df9d481763",
   "metadata": {},
   "outputs": [],
   "source": [
    "df = pd.read_csv('used datasets/placement_toy.csv')"
   ]
  },
  {
   "cell_type": "code",
   "execution_count": 49,
   "id": "6a9eedf0-7658-403c-aa6e-c8def3702f3b",
   "metadata": {},
   "outputs": [],
   "source": [
    "x=df.iloc[:, 0] # 1D numpy array of CGPA\n",
    "y=df.iloc[:, 1] # 1D numpy array of Package"
   ]
  },
  {
   "cell_type": "code",
   "execution_count": 50,
   "id": "ef90caaf-e678-452b-afff-ace5d46ea6d0",
   "metadata": {},
   "outputs": [
    {
     "name": "stdout",
     "output_type": "stream",
     "text": [
      "0      6.89\n",
      "1      5.12\n",
      "2      7.82\n",
      "3      7.42\n",
      "4      6.94\n",
      "       ... \n",
      "195    6.93\n",
      "196    5.89\n",
      "197    7.21\n",
      "198    7.63\n",
      "199    6.22\n",
      "Name: cgpa, Length: 200, dtype: float64 0      3.26\n",
      "1      1.98\n",
      "2      3.25\n",
      "3      3.67\n",
      "4      3.57\n",
      "       ... \n",
      "195    2.46\n",
      "196    2.57\n",
      "197    3.24\n",
      "198    3.96\n",
      "199    2.33\n",
      "Name: package, Length: 200, dtype: float64\n"
     ]
    }
   ],
   "source": [
    "print(x,y)"
   ]
  },
  {
   "cell_type": "code",
   "execution_count": 51,
   "id": "89a80fcf-0854-496a-9268-0bfd9bb30a9b",
   "metadata": {},
   "outputs": [],
   "source": [
    "from sklearn.model_selection import train_test_split\n",
    "X_train, X_test, y_train, y_test = train_test_split(x, y, train_size=0.8, random_state=42)"
   ]
  },
  {
   "cell_type": "code",
   "execution_count": 52,
   "id": "06cba8bd-b68f-4deb-9ddc-1ad9b2740366",
   "metadata": {},
   "outputs": [
    {
     "data": {
      "text/plain": [
       "79     7.18\n",
       "197    7.21\n",
       "38     8.62\n",
       "24     6.53\n",
       "122    5.12\n",
       "       ... \n",
       "106    6.13\n",
       "14     7.73\n",
       "92     7.90\n",
       "179    7.14\n",
       "102    5.13\n",
       "Name: cgpa, Length: 160, dtype: float64"
      ]
     },
     "execution_count": 52,
     "metadata": {},
     "output_type": "execute_result"
    }
   ],
   "source": [
    "X_train"
   ]
  },
  {
   "cell_type": "code",
   "execution_count": 53,
   "id": "e29db5aa-681d-40bd-9240-3c02946f5737",
   "metadata": {},
   "outputs": [],
   "source": [
    "X_train = X_train.values.reshape(-1, 1)\n",
    "X_test = X_test.values.reshape(-1, 1)"
   ]
  },
  {
   "cell_type": "code",
   "execution_count": 54,
   "id": "4a53db5a-788b-47e4-a8c0-4374a1a2802f",
   "metadata": {
    "scrolled": true
   },
   "outputs": [
    {
     "data": {
      "text/plain": [
       "array([[7.18],\n",
       "       [7.21],\n",
       "       [8.62],\n",
       "       [6.53],\n",
       "       [5.12],\n",
       "       [6.93],\n",
       "       [7.15],\n",
       "       [7.48],\n",
       "       [4.85],\n",
       "       [7.61],\n",
       "       [5.84],\n",
       "       [6.75],\n",
       "       [7.89],\n",
       "       [5.91],\n",
       "       [7.12],\n",
       "       [8.44],\n",
       "       [7.91],\n",
       "       [7.69],\n",
       "       [6.93],\n",
       "       [7.11],\n",
       "       [9.31],\n",
       "       [5.98],\n",
       "       [8.1 ],\n",
       "       [8.94],\n",
       "       [6.87],\n",
       "       [7.39],\n",
       "       [5.95],\n",
       "       [8.11],\n",
       "       [7.11],\n",
       "       [5.64],\n",
       "       [9.26],\n",
       "       [6.78],\n",
       "       [5.53],\n",
       "       [6.89],\n",
       "       [7.4 ],\n",
       "       [6.94],\n",
       "       [8.31],\n",
       "       [7.19],\n",
       "       [7.95],\n",
       "       [5.42],\n",
       "       [7.82],\n",
       "       [8.99],\n",
       "       [6.07],\n",
       "       [6.26],\n",
       "       [7.28],\n",
       "       [4.79],\n",
       "       [7.3 ],\n",
       "       [5.99],\n",
       "       [6.19],\n",
       "       [5.48],\n",
       "       [6.14],\n",
       "       [6.76],\n",
       "       [6.71],\n",
       "       [6.35],\n",
       "       [6.61],\n",
       "       [7.89],\n",
       "       [8.71],\n",
       "       [6.73],\n",
       "       [5.42],\n",
       "       [5.23],\n",
       "       [6.94],\n",
       "       [6.96],\n",
       "       [6.93],\n",
       "       [5.84],\n",
       "       [7.77],\n",
       "       [6.17],\n",
       "       [5.32],\n",
       "       [6.34],\n",
       "       [8.58],\n",
       "       [6.07],\n",
       "       [8.6 ],\n",
       "       [6.89],\n",
       "       [7.63],\n",
       "       [7.94],\n",
       "       [5.79],\n",
       "       [5.1 ],\n",
       "       [7.36],\n",
       "       [5.09],\n",
       "       [8.93],\n",
       "       [5.94],\n",
       "       [9.38],\n",
       "       [7.76],\n",
       "       [6.98],\n",
       "       [7.38],\n",
       "       [7.28],\n",
       "       [6.19],\n",
       "       [7.88],\n",
       "       [5.66],\n",
       "       [6.1 ],\n",
       "       [7.43],\n",
       "       [8.65],\n",
       "       [5.84],\n",
       "       [5.83],\n",
       "       [7.08],\n",
       "       [7.66],\n",
       "       [7.91],\n",
       "       [7.42],\n",
       "       [6.66],\n",
       "       [6.47],\n",
       "       [6.05],\n",
       "       [6.19],\n",
       "       [8.15],\n",
       "       [6.31],\n",
       "       [8.87],\n",
       "       [7.63],\n",
       "       [7.34],\n",
       "       [6.75],\n",
       "       [8.18],\n",
       "       [6.22],\n",
       "       [8.44],\n",
       "       [6.29],\n",
       "       [8.22],\n",
       "       [6.42],\n",
       "       [6.09],\n",
       "       [6.93],\n",
       "       [7.56],\n",
       "       [8.01],\n",
       "       [6.37],\n",
       "       [5.38],\n",
       "       [7.78],\n",
       "       [7.04],\n",
       "       [7.2 ],\n",
       "       [8.13],\n",
       "       [7.28],\n",
       "       [9.16],\n",
       "       [6.86],\n",
       "       [6.33],\n",
       "       [9.58],\n",
       "       [5.89],\n",
       "       [6.92],\n",
       "       [8.63],\n",
       "       [4.73],\n",
       "       [6.85],\n",
       "       [6.6 ],\n",
       "       [7.13],\n",
       "       [8.25],\n",
       "       [7.29],\n",
       "       [5.9 ],\n",
       "       [6.47],\n",
       "       [4.57],\n",
       "       [5.12],\n",
       "       [8.37],\n",
       "       [8.28],\n",
       "       [6.68],\n",
       "       [6.12],\n",
       "       [7.05],\n",
       "       [6.61],\n",
       "       [9.04],\n",
       "       [8.09],\n",
       "       [6.85],\n",
       "       [6.5 ],\n",
       "       [6.22],\n",
       "       [7.28],\n",
       "       [7.35],\n",
       "       [7.47],\n",
       "       [6.13],\n",
       "       [7.73],\n",
       "       [7.9 ],\n",
       "       [7.14],\n",
       "       [5.13]])"
      ]
     },
     "execution_count": 54,
     "metadata": {},
     "output_type": "execute_result"
    }
   ],
   "source": [
    "X_train"
   ]
  },
  {
   "cell_type": "code",
   "execution_count": 55,
   "id": "794782a6-0e28-4155-8f3c-cabb9d877b70",
   "metadata": {},
   "outputs": [],
   "source": [
    "from sklearn.linear_model import LinearRegression \n",
    "model = LinearRegression()"
   ]
  },
  {
   "cell_type": "code",
   "execution_count": 56,
   "id": "88e19136-e07f-42d1-a1ea-8ee1631146ab",
   "metadata": {},
   "outputs": [
    {
     "data": {
      "text/html": [
       "<style>#sk-container-id-2 {\n",
       "  /* Definition of color scheme common for light and dark mode */\n",
       "  --sklearn-color-text: black;\n",
       "  --sklearn-color-line: gray;\n",
       "  /* Definition of color scheme for unfitted estimators */\n",
       "  --sklearn-color-unfitted-level-0: #fff5e6;\n",
       "  --sklearn-color-unfitted-level-1: #f6e4d2;\n",
       "  --sklearn-color-unfitted-level-2: #ffe0b3;\n",
       "  --sklearn-color-unfitted-level-3: chocolate;\n",
       "  /* Definition of color scheme for fitted estimators */\n",
       "  --sklearn-color-fitted-level-0: #f0f8ff;\n",
       "  --sklearn-color-fitted-level-1: #d4ebff;\n",
       "  --sklearn-color-fitted-level-2: #b3dbfd;\n",
       "  --sklearn-color-fitted-level-3: cornflowerblue;\n",
       "\n",
       "  /* Specific color for light theme */\n",
       "  --sklearn-color-text-on-default-background: var(--sg-text-color, var(--theme-code-foreground, var(--jp-content-font-color1, black)));\n",
       "  --sklearn-color-background: var(--sg-background-color, var(--theme-background, var(--jp-layout-color0, white)));\n",
       "  --sklearn-color-border-box: var(--sg-text-color, var(--theme-code-foreground, var(--jp-content-font-color1, black)));\n",
       "  --sklearn-color-icon: #696969;\n",
       "\n",
       "  @media (prefers-color-scheme: dark) {\n",
       "    /* Redefinition of color scheme for dark theme */\n",
       "    --sklearn-color-text-on-default-background: var(--sg-text-color, var(--theme-code-foreground, var(--jp-content-font-color1, white)));\n",
       "    --sklearn-color-background: var(--sg-background-color, var(--theme-background, var(--jp-layout-color0, #111)));\n",
       "    --sklearn-color-border-box: var(--sg-text-color, var(--theme-code-foreground, var(--jp-content-font-color1, white)));\n",
       "    --sklearn-color-icon: #878787;\n",
       "  }\n",
       "}\n",
       "\n",
       "#sk-container-id-2 {\n",
       "  color: var(--sklearn-color-text);\n",
       "}\n",
       "\n",
       "#sk-container-id-2 pre {\n",
       "  padding: 0;\n",
       "}\n",
       "\n",
       "#sk-container-id-2 input.sk-hidden--visually {\n",
       "  border: 0;\n",
       "  clip: rect(1px 1px 1px 1px);\n",
       "  clip: rect(1px, 1px, 1px, 1px);\n",
       "  height: 1px;\n",
       "  margin: -1px;\n",
       "  overflow: hidden;\n",
       "  padding: 0;\n",
       "  position: absolute;\n",
       "  width: 1px;\n",
       "}\n",
       "\n",
       "#sk-container-id-2 div.sk-dashed-wrapped {\n",
       "  border: 1px dashed var(--sklearn-color-line);\n",
       "  margin: 0 0.4em 0.5em 0.4em;\n",
       "  box-sizing: border-box;\n",
       "  padding-bottom: 0.4em;\n",
       "  background-color: var(--sklearn-color-background);\n",
       "}\n",
       "\n",
       "#sk-container-id-2 div.sk-container {\n",
       "  /* jupyter's `normalize.less` sets `[hidden] { display: none; }`\n",
       "     but bootstrap.min.css set `[hidden] { display: none !important; }`\n",
       "     so we also need the `!important` here to be able to override the\n",
       "     default hidden behavior on the sphinx rendered scikit-learn.org.\n",
       "     See: https://github.com/scikit-learn/scikit-learn/issues/21755 */\n",
       "  display: inline-block !important;\n",
       "  position: relative;\n",
       "}\n",
       "\n",
       "#sk-container-id-2 div.sk-text-repr-fallback {\n",
       "  display: none;\n",
       "}\n",
       "\n",
       "div.sk-parallel-item,\n",
       "div.sk-serial,\n",
       "div.sk-item {\n",
       "  /* draw centered vertical line to link estimators */\n",
       "  background-image: linear-gradient(var(--sklearn-color-text-on-default-background), var(--sklearn-color-text-on-default-background));\n",
       "  background-size: 2px 100%;\n",
       "  background-repeat: no-repeat;\n",
       "  background-position: center center;\n",
       "}\n",
       "\n",
       "/* Parallel-specific style estimator block */\n",
       "\n",
       "#sk-container-id-2 div.sk-parallel-item::after {\n",
       "  content: \"\";\n",
       "  width: 100%;\n",
       "  border-bottom: 2px solid var(--sklearn-color-text-on-default-background);\n",
       "  flex-grow: 1;\n",
       "}\n",
       "\n",
       "#sk-container-id-2 div.sk-parallel {\n",
       "  display: flex;\n",
       "  align-items: stretch;\n",
       "  justify-content: center;\n",
       "  background-color: var(--sklearn-color-background);\n",
       "  position: relative;\n",
       "}\n",
       "\n",
       "#sk-container-id-2 div.sk-parallel-item {\n",
       "  display: flex;\n",
       "  flex-direction: column;\n",
       "}\n",
       "\n",
       "#sk-container-id-2 div.sk-parallel-item:first-child::after {\n",
       "  align-self: flex-end;\n",
       "  width: 50%;\n",
       "}\n",
       "\n",
       "#sk-container-id-2 div.sk-parallel-item:last-child::after {\n",
       "  align-self: flex-start;\n",
       "  width: 50%;\n",
       "}\n",
       "\n",
       "#sk-container-id-2 div.sk-parallel-item:only-child::after {\n",
       "  width: 0;\n",
       "}\n",
       "\n",
       "/* Serial-specific style estimator block */\n",
       "\n",
       "#sk-container-id-2 div.sk-serial {\n",
       "  display: flex;\n",
       "  flex-direction: column;\n",
       "  align-items: center;\n",
       "  background-color: var(--sklearn-color-background);\n",
       "  padding-right: 1em;\n",
       "  padding-left: 1em;\n",
       "}\n",
       "\n",
       "\n",
       "/* Toggleable style: style used for estimator/Pipeline/ColumnTransformer box that is\n",
       "clickable and can be expanded/collapsed.\n",
       "- Pipeline and ColumnTransformer use this feature and define the default style\n",
       "- Estimators will overwrite some part of the style using the `sk-estimator` class\n",
       "*/\n",
       "\n",
       "/* Pipeline and ColumnTransformer style (default) */\n",
       "\n",
       "#sk-container-id-2 div.sk-toggleable {\n",
       "  /* Default theme specific background. It is overwritten whether we have a\n",
       "  specific estimator or a Pipeline/ColumnTransformer */\n",
       "  background-color: var(--sklearn-color-background);\n",
       "}\n",
       "\n",
       "/* Toggleable label */\n",
       "#sk-container-id-2 label.sk-toggleable__label {\n",
       "  cursor: pointer;\n",
       "  display: block;\n",
       "  width: 100%;\n",
       "  margin-bottom: 0;\n",
       "  padding: 0.5em;\n",
       "  box-sizing: border-box;\n",
       "  text-align: center;\n",
       "}\n",
       "\n",
       "#sk-container-id-2 label.sk-toggleable__label-arrow:before {\n",
       "  /* Arrow on the left of the label */\n",
       "  content: \"▸\";\n",
       "  float: left;\n",
       "  margin-right: 0.25em;\n",
       "  color: var(--sklearn-color-icon);\n",
       "}\n",
       "\n",
       "#sk-container-id-2 label.sk-toggleable__label-arrow:hover:before {\n",
       "  color: var(--sklearn-color-text);\n",
       "}\n",
       "\n",
       "/* Toggleable content - dropdown */\n",
       "\n",
       "#sk-container-id-2 div.sk-toggleable__content {\n",
       "  max-height: 0;\n",
       "  max-width: 0;\n",
       "  overflow: hidden;\n",
       "  text-align: left;\n",
       "  /* unfitted */\n",
       "  background-color: var(--sklearn-color-unfitted-level-0);\n",
       "}\n",
       "\n",
       "#sk-container-id-2 div.sk-toggleable__content.fitted {\n",
       "  /* fitted */\n",
       "  background-color: var(--sklearn-color-fitted-level-0);\n",
       "}\n",
       "\n",
       "#sk-container-id-2 div.sk-toggleable__content pre {\n",
       "  margin: 0.2em;\n",
       "  border-radius: 0.25em;\n",
       "  color: var(--sklearn-color-text);\n",
       "  /* unfitted */\n",
       "  background-color: var(--sklearn-color-unfitted-level-0);\n",
       "}\n",
       "\n",
       "#sk-container-id-2 div.sk-toggleable__content.fitted pre {\n",
       "  /* unfitted */\n",
       "  background-color: var(--sklearn-color-fitted-level-0);\n",
       "}\n",
       "\n",
       "#sk-container-id-2 input.sk-toggleable__control:checked~div.sk-toggleable__content {\n",
       "  /* Expand drop-down */\n",
       "  max-height: 200px;\n",
       "  max-width: 100%;\n",
       "  overflow: auto;\n",
       "}\n",
       "\n",
       "#sk-container-id-2 input.sk-toggleable__control:checked~label.sk-toggleable__label-arrow:before {\n",
       "  content: \"▾\";\n",
       "}\n",
       "\n",
       "/* Pipeline/ColumnTransformer-specific style */\n",
       "\n",
       "#sk-container-id-2 div.sk-label input.sk-toggleable__control:checked~label.sk-toggleable__label {\n",
       "  color: var(--sklearn-color-text);\n",
       "  background-color: var(--sklearn-color-unfitted-level-2);\n",
       "}\n",
       "\n",
       "#sk-container-id-2 div.sk-label.fitted input.sk-toggleable__control:checked~label.sk-toggleable__label {\n",
       "  background-color: var(--sklearn-color-fitted-level-2);\n",
       "}\n",
       "\n",
       "/* Estimator-specific style */\n",
       "\n",
       "/* Colorize estimator box */\n",
       "#sk-container-id-2 div.sk-estimator input.sk-toggleable__control:checked~label.sk-toggleable__label {\n",
       "  /* unfitted */\n",
       "  background-color: var(--sklearn-color-unfitted-level-2);\n",
       "}\n",
       "\n",
       "#sk-container-id-2 div.sk-estimator.fitted input.sk-toggleable__control:checked~label.sk-toggleable__label {\n",
       "  /* fitted */\n",
       "  background-color: var(--sklearn-color-fitted-level-2);\n",
       "}\n",
       "\n",
       "#sk-container-id-2 div.sk-label label.sk-toggleable__label,\n",
       "#sk-container-id-2 div.sk-label label {\n",
       "  /* The background is the default theme color */\n",
       "  color: var(--sklearn-color-text-on-default-background);\n",
       "}\n",
       "\n",
       "/* On hover, darken the color of the background */\n",
       "#sk-container-id-2 div.sk-label:hover label.sk-toggleable__label {\n",
       "  color: var(--sklearn-color-text);\n",
       "  background-color: var(--sklearn-color-unfitted-level-2);\n",
       "}\n",
       "\n",
       "/* Label box, darken color on hover, fitted */\n",
       "#sk-container-id-2 div.sk-label.fitted:hover label.sk-toggleable__label.fitted {\n",
       "  color: var(--sklearn-color-text);\n",
       "  background-color: var(--sklearn-color-fitted-level-2);\n",
       "}\n",
       "\n",
       "/* Estimator label */\n",
       "\n",
       "#sk-container-id-2 div.sk-label label {\n",
       "  font-family: monospace;\n",
       "  font-weight: bold;\n",
       "  display: inline-block;\n",
       "  line-height: 1.2em;\n",
       "}\n",
       "\n",
       "#sk-container-id-2 div.sk-label-container {\n",
       "  text-align: center;\n",
       "}\n",
       "\n",
       "/* Estimator-specific */\n",
       "#sk-container-id-2 div.sk-estimator {\n",
       "  font-family: monospace;\n",
       "  border: 1px dotted var(--sklearn-color-border-box);\n",
       "  border-radius: 0.25em;\n",
       "  box-sizing: border-box;\n",
       "  margin-bottom: 0.5em;\n",
       "  /* unfitted */\n",
       "  background-color: var(--sklearn-color-unfitted-level-0);\n",
       "}\n",
       "\n",
       "#sk-container-id-2 div.sk-estimator.fitted {\n",
       "  /* fitted */\n",
       "  background-color: var(--sklearn-color-fitted-level-0);\n",
       "}\n",
       "\n",
       "/* on hover */\n",
       "#sk-container-id-2 div.sk-estimator:hover {\n",
       "  /* unfitted */\n",
       "  background-color: var(--sklearn-color-unfitted-level-2);\n",
       "}\n",
       "\n",
       "#sk-container-id-2 div.sk-estimator.fitted:hover {\n",
       "  /* fitted */\n",
       "  background-color: var(--sklearn-color-fitted-level-2);\n",
       "}\n",
       "\n",
       "/* Specification for estimator info (e.g. \"i\" and \"?\") */\n",
       "\n",
       "/* Common style for \"i\" and \"?\" */\n",
       "\n",
       ".sk-estimator-doc-link,\n",
       "a:link.sk-estimator-doc-link,\n",
       "a:visited.sk-estimator-doc-link {\n",
       "  float: right;\n",
       "  font-size: smaller;\n",
       "  line-height: 1em;\n",
       "  font-family: monospace;\n",
       "  background-color: var(--sklearn-color-background);\n",
       "  border-radius: 1em;\n",
       "  height: 1em;\n",
       "  width: 1em;\n",
       "  text-decoration: none !important;\n",
       "  margin-left: 1ex;\n",
       "  /* unfitted */\n",
       "  border: var(--sklearn-color-unfitted-level-1) 1pt solid;\n",
       "  color: var(--sklearn-color-unfitted-level-1);\n",
       "}\n",
       "\n",
       ".sk-estimator-doc-link.fitted,\n",
       "a:link.sk-estimator-doc-link.fitted,\n",
       "a:visited.sk-estimator-doc-link.fitted {\n",
       "  /* fitted */\n",
       "  border: var(--sklearn-color-fitted-level-1) 1pt solid;\n",
       "  color: var(--sklearn-color-fitted-level-1);\n",
       "}\n",
       "\n",
       "/* On hover */\n",
       "div.sk-estimator:hover .sk-estimator-doc-link:hover,\n",
       ".sk-estimator-doc-link:hover,\n",
       "div.sk-label-container:hover .sk-estimator-doc-link:hover,\n",
       ".sk-estimator-doc-link:hover {\n",
       "  /* unfitted */\n",
       "  background-color: var(--sklearn-color-unfitted-level-3);\n",
       "  color: var(--sklearn-color-background);\n",
       "  text-decoration: none;\n",
       "}\n",
       "\n",
       "div.sk-estimator.fitted:hover .sk-estimator-doc-link.fitted:hover,\n",
       ".sk-estimator-doc-link.fitted:hover,\n",
       "div.sk-label-container:hover .sk-estimator-doc-link.fitted:hover,\n",
       ".sk-estimator-doc-link.fitted:hover {\n",
       "  /* fitted */\n",
       "  background-color: var(--sklearn-color-fitted-level-3);\n",
       "  color: var(--sklearn-color-background);\n",
       "  text-decoration: none;\n",
       "}\n",
       "\n",
       "/* Span, style for the box shown on hovering the info icon */\n",
       ".sk-estimator-doc-link span {\n",
       "  display: none;\n",
       "  z-index: 9999;\n",
       "  position: relative;\n",
       "  font-weight: normal;\n",
       "  right: .2ex;\n",
       "  padding: .5ex;\n",
       "  margin: .5ex;\n",
       "  width: min-content;\n",
       "  min-width: 20ex;\n",
       "  max-width: 50ex;\n",
       "  color: var(--sklearn-color-text);\n",
       "  box-shadow: 2pt 2pt 4pt #999;\n",
       "  /* unfitted */\n",
       "  background: var(--sklearn-color-unfitted-level-0);\n",
       "  border: .5pt solid var(--sklearn-color-unfitted-level-3);\n",
       "}\n",
       "\n",
       ".sk-estimator-doc-link.fitted span {\n",
       "  /* fitted */\n",
       "  background: var(--sklearn-color-fitted-level-0);\n",
       "  border: var(--sklearn-color-fitted-level-3);\n",
       "}\n",
       "\n",
       ".sk-estimator-doc-link:hover span {\n",
       "  display: block;\n",
       "}\n",
       "\n",
       "/* \"?\"-specific style due to the `<a>` HTML tag */\n",
       "\n",
       "#sk-container-id-2 a.estimator_doc_link {\n",
       "  float: right;\n",
       "  font-size: 1rem;\n",
       "  line-height: 1em;\n",
       "  font-family: monospace;\n",
       "  background-color: var(--sklearn-color-background);\n",
       "  border-radius: 1rem;\n",
       "  height: 1rem;\n",
       "  width: 1rem;\n",
       "  text-decoration: none;\n",
       "  /* unfitted */\n",
       "  color: var(--sklearn-color-unfitted-level-1);\n",
       "  border: var(--sklearn-color-unfitted-level-1) 1pt solid;\n",
       "}\n",
       "\n",
       "#sk-container-id-2 a.estimator_doc_link.fitted {\n",
       "  /* fitted */\n",
       "  border: var(--sklearn-color-fitted-level-1) 1pt solid;\n",
       "  color: var(--sklearn-color-fitted-level-1);\n",
       "}\n",
       "\n",
       "/* On hover */\n",
       "#sk-container-id-2 a.estimator_doc_link:hover {\n",
       "  /* unfitted */\n",
       "  background-color: var(--sklearn-color-unfitted-level-3);\n",
       "  color: var(--sklearn-color-background);\n",
       "  text-decoration: none;\n",
       "}\n",
       "\n",
       "#sk-container-id-2 a.estimator_doc_link.fitted:hover {\n",
       "  /* fitted */\n",
       "  background-color: var(--sklearn-color-fitted-level-3);\n",
       "}\n",
       "</style><div id=\"sk-container-id-2\" class=\"sk-top-container\"><div class=\"sk-text-repr-fallback\"><pre>LinearRegression()</pre><b>In a Jupyter environment, please rerun this cell to show the HTML representation or trust the notebook. <br />On GitHub, the HTML representation is unable to render, please try loading this page with nbviewer.org.</b></div><div class=\"sk-container\" hidden><div class=\"sk-item\"><div class=\"sk-estimator fitted sk-toggleable\"><input class=\"sk-toggleable__control sk-hidden--visually\" id=\"sk-estimator-id-2\" type=\"checkbox\" checked><label for=\"sk-estimator-id-2\" class=\"sk-toggleable__label fitted sk-toggleable__label-arrow fitted\">&nbsp;&nbsp;LinearRegression<a class=\"sk-estimator-doc-link fitted\" rel=\"noreferrer\" target=\"_blank\" href=\"https://scikit-learn.org/1.5/modules/generated/sklearn.linear_model.LinearRegression.html\">?<span>Documentation for LinearRegression</span></a><span class=\"sk-estimator-doc-link fitted\">i<span>Fitted</span></span></label><div class=\"sk-toggleable__content fitted\"><pre>LinearRegression()</pre></div> </div></div></div></div>"
      ],
      "text/plain": [
       "LinearRegression()"
      ]
     },
     "execution_count": 56,
     "metadata": {},
     "output_type": "execute_result"
    }
   ],
   "source": [
    "model.fit(X_train, y_train) # LinearRegression model expects input feature to be 2D array or matrix but target variable to be 1D array"
   ]
  },
  {
   "cell_type": "code",
   "execution_count": 58,
   "id": "add638e1-be56-4be3-ad70-0415c79b8c0a",
   "metadata": {},
   "outputs": [
    {
     "data": {
      "text/plain": [
       "array([0.57425647])"
      ]
     },
     "execution_count": 58,
     "metadata": {},
     "output_type": "execute_result"
    }
   ],
   "source": [
    "model.coef_"
   ]
  },
  {
   "cell_type": "code",
   "execution_count": 60,
   "id": "ad2535a7-524d-462d-98ac-a2454918b246",
   "metadata": {},
   "outputs": [
    {
     "data": {
      "text/plain": [
       "-1.0270069374542108"
      ]
     },
     "execution_count": 60,
     "metadata": {},
     "output_type": "execute_result"
    }
   ],
   "source": [
    "model.intercept_"
   ]
  },
  {
   "cell_type": "code",
   "execution_count": 61,
   "id": "3ab7c1bf-ac15-4a89-b28f-ad4d52d94742",
   "metadata": {},
   "outputs": [],
   "source": [
    "y_pred = model.predict(X_test)"
   ]
  },
  {
   "cell_type": "code",
   "execution_count": 77,
   "id": "680f3f9f-d8e9-4c99-8127-6ed83ca4604a",
   "metadata": {},
   "outputs": [
    {
     "data": {
      "text/plain": [
       "array([2.78031348, 3.13635249, 3.1995207 , 2.38981908, 3.52684689,\n",
       "       3.76803461, 3.16506531, 2.54486832, 3.17655044, 3.4923915 ,\n",
       "       1.90744364, 2.34962112, 3.6876387 , 2.75734322, 3.47516381,\n",
       "       3.04447145, 2.32665086, 3.20526327, 2.17734418, 3.314372  ,\n",
       "       2.45298729, 2.90090734, 3.32011456, 2.87219451, 3.33734226,\n",
       "       2.19457187, 1.41932564, 2.7114027 , 3.18229301, 2.32665086,\n",
       "       3.74506435, 2.95833298, 3.68189614, 2.97556068, 2.59080884,\n",
       "       3.34882738, 2.47595755, 3.07318428, 4.17575671, 2.95833298])"
      ]
     },
     "execution_count": 77,
     "metadata": {},
     "output_type": "execute_result"
    }
   ],
   "source": [
    "y_pred"
   ]
  },
  {
   "cell_type": "code",
   "execution_count": null,
   "id": "1df4d276-c74c-4ec3-852d-d05ee4aa74db",
   "metadata": {},
   "outputs": [],
   "source": []
  }
 ],
 "metadata": {
  "kernelspec": {
   "display_name": "Python 3 (ipykernel)",
   "language": "python",
   "name": "python3"
  },
  "language_info": {
   "codemirror_mode": {
    "name": "ipython",
    "version": 3
   },
   "file_extension": ".py",
   "mimetype": "text/x-python",
   "name": "python",
   "nbconvert_exporter": "python",
   "pygments_lexer": "ipython3",
   "version": "3.12.1"
  }
 },
 "nbformat": 4,
 "nbformat_minor": 5
}
